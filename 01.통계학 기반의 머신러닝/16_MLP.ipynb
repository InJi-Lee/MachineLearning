{
  "nbformat": 4,
  "nbformat_minor": 0,
  "metadata": {
    "colab": {
      "name": "16.MLP.ipynb",
      "provenance": [],
      "collapsed_sections": []
    },
    "kernelspec": {
      "name": "python3",
      "display_name": "Python 3"
    },
    "language_info": {
      "name": "python"
    }
  },
  "cells": [
    {
      "cell_type": "markdown",
      "metadata": {
        "id": "RnPV4RYefavz"
      },
      "source": [
        "# MLP\n",
        "- 학습 규칙 : 오류 역전파 학습(EBP - Error Back Propagation)"
      ]
    },
    {
      "cell_type": "markdown",
      "metadata": {
        "id": "Q7PIK77nftWP"
      },
      "source": [
        "## 필기체 숫자 인식에 적용"
      ]
    },
    {
      "cell_type": "markdown",
      "metadata": {
        "id": "4pKVB9bffv-k"
      },
      "source": [
        "### (1) 자료 준비"
      ]
    },
    {
      "cell_type": "code",
      "metadata": {
        "id": "OnWUrvwFDw5T"
      },
      "source": [
        "from sklearn.datasets import load_digits"
      ],
      "execution_count": 1,
      "outputs": []
    },
    {
      "cell_type": "code",
      "metadata": {
        "colab": {
          "base_uri": "https://localhost:8080/"
        },
        "id": "ZcSq3hetf2v4",
        "outputId": "e7b8c413-8ef4-401b-b792-a7e68fdc21cf"
      },
      "source": [
        "X, y = load_digits(return_X_y=True)\n",
        "print(len(X))\n",
        "from sklearn.model_selection import train_test_split\n",
        "X_train, X_test, y_train, y_test = train_test_split(X,y,test_size=0.33)"
      ],
      "execution_count": 2,
      "outputs": [
        {
          "output_type": "stream",
          "name": "stdout",
          "text": [
            "1797\n"
          ]
        }
      ]
    },
    {
      "cell_type": "markdown",
      "metadata": {
        "id": "D1Nc16ckgp-e"
      },
      "source": [
        "### (2) 모델 import와 인스턴스화"
      ]
    },
    {
      "cell_type": "code",
      "metadata": {
        "id": "0X1Jo2FogQ8M"
      },
      "source": [
        "from sklearn.neural_network import MLPClassifier"
      ],
      "execution_count": 3,
      "outputs": []
    },
    {
      "cell_type": "code",
      "metadata": {
        "id": "jSsJeg0SgWE1"
      },
      "source": [
        "mlp = MLPClassifier(solver='sgd', activation='logistic',\n",
        "                    hidden_layer_sizes=(30,10),\n",
        "                    random_state=1, max_iter=2000)"
      ],
      "execution_count": 4,
      "outputs": []
    },
    {
      "cell_type": "markdown",
      "metadata": {
        "id": "XB8wWAOng8k7"
      },
      "source": [
        "### (3) 학습 데이터로 학습"
      ]
    },
    {
      "cell_type": "code",
      "metadata": {
        "colab": {
          "base_uri": "https://localhost:8080/"
        },
        "id": "yjjGwGGogjSx",
        "outputId": "5c52ac5e-bbdc-4f7d-dcda-646fc1cf9ce3"
      },
      "source": [
        "mlp.fit(X_train,y_train)"
      ],
      "execution_count": 5,
      "outputs": [
        {
          "output_type": "stream",
          "name": "stderr",
          "text": [
            "/usr/local/lib/python3.7/dist-packages/sklearn/neural_network/_multilayer_perceptron.py:571: ConvergenceWarning: Stochastic Optimizer: Maximum iterations (2000) reached and the optimization hasn't converged yet.\n",
            "  % self.max_iter, ConvergenceWarning)\n"
          ]
        },
        {
          "output_type": "execute_result",
          "data": {
            "text/plain": [
              "MLPClassifier(activation='logistic', alpha=0.0001, batch_size='auto',\n",
              "              beta_1=0.9, beta_2=0.999, early_stopping=False, epsilon=1e-08,\n",
              "              hidden_layer_sizes=(30, 10), learning_rate='constant',\n",
              "              learning_rate_init=0.001, max_fun=15000, max_iter=2000,\n",
              "              momentum=0.9, n_iter_no_change=10, nesterovs_momentum=True,\n",
              "              power_t=0.5, random_state=1, shuffle=True, solver='sgd',\n",
              "              tol=0.0001, validation_fraction=0.1, verbose=False,\n",
              "              warm_start=False)"
            ]
          },
          "metadata": {},
          "execution_count": 5
        }
      ]
    },
    {
      "cell_type": "markdown",
      "metadata": {
        "id": "yDS8I3dWhoJ9"
      },
      "source": [
        "### (4) 성능 평가"
      ]
    },
    {
      "cell_type": "code",
      "metadata": {
        "colab": {
          "base_uri": "https://localhost:8080/"
        },
        "id": "5fMwchGVhGAG",
        "outputId": "bb2d2eb7-72cd-48c6-8e9a-ade7e984ff80"
      },
      "source": [
        "mlp.score(X_train, y_train)"
      ],
      "execution_count": 6,
      "outputs": [
        {
          "output_type": "execute_result",
          "data": {
            "text/plain": [
              "0.9875311720698254"
            ]
          },
          "metadata": {},
          "execution_count": 6
        }
      ]
    },
    {
      "cell_type": "code",
      "metadata": {
        "colab": {
          "base_uri": "https://localhost:8080/"
        },
        "id": "kxNyvtElhWME",
        "outputId": "630b670f-62a7-408e-ebc4-25111f423e0e"
      },
      "source": [
        "mlp.score(X_test, y_test)"
      ],
      "execution_count": 7,
      "outputs": [
        {
          "output_type": "execute_result",
          "data": {
            "text/plain": [
              "0.9696969696969697"
            ]
          },
          "metadata": {},
          "execution_count": 7
        }
      ]
    },
    {
      "cell_type": "code",
      "metadata": {
        "id": "64HTLw9Ehwwj"
      },
      "source": [
        ""
      ],
      "execution_count": null,
      "outputs": []
    }
  ]
}