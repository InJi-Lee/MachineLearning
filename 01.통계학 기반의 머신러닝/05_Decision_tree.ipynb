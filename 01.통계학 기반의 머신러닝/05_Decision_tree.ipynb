{
  "nbformat": 4,
  "nbformat_minor": 0,
  "metadata": {
    "colab": {
      "name": "05.Decision_tree.ipynb",
      "provenance": [],
      "collapsed_sections": []
    },
    "kernelspec": {
      "name": "python3",
      "display_name": "Python 3"
    },
    "language_info": {
      "name": "python"
    }
  },
  "cells": [
    {
      "cell_type": "code",
      "metadata": {
        "id": "DpyC9KCHjGR1"
      },
      "source": [
        "import numpy as np\n",
        "import pandas as pd\n",
        "import matplotlib.pyplot as plt\n",
        "import seaborn as sns\n",
        "import warnings\n",
        "warnings.filterwarnings('ignore')"
      ],
      "execution_count": 1,
      "outputs": []
    },
    {
      "cell_type": "code",
      "metadata": {
        "colab": {
          "resources": {
            "http://localhost:8080/nbextensions/google.colab/files.js": {
              "data": "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",
              "ok": true,
              "headers": [
                [
                  "content-type",
                  "application/javascript"
                ]
              ],
              "status": 200,
              "status_text": ""
            }
          },
          "base_uri": "https://localhost:8080/",
          "height": 76
        },
        "id": "FT78VZsYzNeb",
        "outputId": "be06f1d6-e050-4f94-febc-a56d0f9c7240"
      },
      "source": [
        "from google.colab import files\n",
        "uploaded = files.upload()\n",
        "csvfile = list(uploaded.keys())[0]"
      ],
      "execution_count": 2,
      "outputs": [
        {
          "output_type": "display_data",
          "data": {
            "text/html": [
              "\n",
              "     <input type=\"file\" id=\"files-1917aef8-ec82-4639-9602-42f39f9b991d\" name=\"files[]\" multiple disabled\n",
              "        style=\"border:none\" />\n",
              "     <output id=\"result-1917aef8-ec82-4639-9602-42f39f9b991d\">\n",
              "      Upload widget is only available when the cell has been executed in the\n",
              "      current browser session. Please rerun this cell to enable.\n",
              "      </output>\n",
              "      <script src=\"/nbextensions/google.colab/files.js\"></script> "
            ],
            "text/plain": [
              "<IPython.core.display.HTML object>"
            ]
          },
          "metadata": {}
        },
        {
          "output_type": "stream",
          "name": "stdout",
          "text": [
            "Saving madfhantr.csv to madfhantr.csv\n"
          ]
        }
      ]
    },
    {
      "cell_type": "code",
      "metadata": {
        "colab": {
          "base_uri": "https://localhost:8080/",
          "height": 241
        },
        "id": "Ka35sinXzYGh",
        "outputId": "8892f1b7-09d9-4756-e065-a9ff0de987b1"
      },
      "source": [
        "# Read Data\n",
        "loandata = pd.read_csv('madfhantr.csv')\n",
        "loandata.head()"
      ],
      "execution_count": 4,
      "outputs": [
        {
          "output_type": "execute_result",
          "data": {
            "text/html": [
              "<div>\n",
              "<style scoped>\n",
              "    .dataframe tbody tr th:only-of-type {\n",
              "        vertical-align: middle;\n",
              "    }\n",
              "\n",
              "    .dataframe tbody tr th {\n",
              "        vertical-align: top;\n",
              "    }\n",
              "\n",
              "    .dataframe thead th {\n",
              "        text-align: right;\n",
              "    }\n",
              "</style>\n",
              "<table border=\"1\" class=\"dataframe\">\n",
              "  <thead>\n",
              "    <tr style=\"text-align: right;\">\n",
              "      <th></th>\n",
              "      <th>Loan_ID</th>\n",
              "      <th>Gender</th>\n",
              "      <th>Married</th>\n",
              "      <th>Dependents</th>\n",
              "      <th>Education</th>\n",
              "      <th>Self_Employed</th>\n",
              "      <th>ApplicantIncome</th>\n",
              "      <th>CoapplicantIncome</th>\n",
              "      <th>LoanAmount</th>\n",
              "      <th>Loan_Amount_Term</th>\n",
              "      <th>Credit_History</th>\n",
              "      <th>Property_Area</th>\n",
              "      <th>Loan_Status</th>\n",
              "    </tr>\n",
              "  </thead>\n",
              "  <tbody>\n",
              "    <tr>\n",
              "      <th>0</th>\n",
              "      <td>LP001002</td>\n",
              "      <td>Male</td>\n",
              "      <td>No</td>\n",
              "      <td>0</td>\n",
              "      <td>Graduate</td>\n",
              "      <td>No</td>\n",
              "      <td>5849</td>\n",
              "      <td>0.0</td>\n",
              "      <td>NaN</td>\n",
              "      <td>360.0</td>\n",
              "      <td>1.0</td>\n",
              "      <td>Urban</td>\n",
              "      <td>Y</td>\n",
              "    </tr>\n",
              "    <tr>\n",
              "      <th>1</th>\n",
              "      <td>LP001003</td>\n",
              "      <td>Male</td>\n",
              "      <td>Yes</td>\n",
              "      <td>1</td>\n",
              "      <td>Graduate</td>\n",
              "      <td>No</td>\n",
              "      <td>4583</td>\n",
              "      <td>1508.0</td>\n",
              "      <td>128.0</td>\n",
              "      <td>360.0</td>\n",
              "      <td>1.0</td>\n",
              "      <td>Rural</td>\n",
              "      <td>N</td>\n",
              "    </tr>\n",
              "    <tr>\n",
              "      <th>2</th>\n",
              "      <td>LP001005</td>\n",
              "      <td>Male</td>\n",
              "      <td>Yes</td>\n",
              "      <td>0</td>\n",
              "      <td>Graduate</td>\n",
              "      <td>Yes</td>\n",
              "      <td>3000</td>\n",
              "      <td>0.0</td>\n",
              "      <td>66.0</td>\n",
              "      <td>360.0</td>\n",
              "      <td>1.0</td>\n",
              "      <td>Urban</td>\n",
              "      <td>Y</td>\n",
              "    </tr>\n",
              "    <tr>\n",
              "      <th>3</th>\n",
              "      <td>LP001006</td>\n",
              "      <td>Male</td>\n",
              "      <td>Yes</td>\n",
              "      <td>0</td>\n",
              "      <td>Not Graduate</td>\n",
              "      <td>No</td>\n",
              "      <td>2583</td>\n",
              "      <td>2358.0</td>\n",
              "      <td>120.0</td>\n",
              "      <td>360.0</td>\n",
              "      <td>1.0</td>\n",
              "      <td>Urban</td>\n",
              "      <td>Y</td>\n",
              "    </tr>\n",
              "    <tr>\n",
              "      <th>4</th>\n",
              "      <td>LP001008</td>\n",
              "      <td>Male</td>\n",
              "      <td>No</td>\n",
              "      <td>0</td>\n",
              "      <td>Graduate</td>\n",
              "      <td>No</td>\n",
              "      <td>6000</td>\n",
              "      <td>0.0</td>\n",
              "      <td>141.0</td>\n",
              "      <td>360.0</td>\n",
              "      <td>1.0</td>\n",
              "      <td>Urban</td>\n",
              "      <td>Y</td>\n",
              "    </tr>\n",
              "  </tbody>\n",
              "</table>\n",
              "</div>"
            ],
            "text/plain": [
              "    Loan_ID Gender Married  ... Credit_History Property_Area Loan_Status\n",
              "0  LP001002   Male      No  ...            1.0         Urban           Y\n",
              "1  LP001003   Male     Yes  ...            1.0         Rural           N\n",
              "2  LP001005   Male     Yes  ...            1.0         Urban           Y\n",
              "3  LP001006   Male     Yes  ...            1.0         Urban           Y\n",
              "4  LP001008   Male      No  ...            1.0         Urban           Y\n",
              "\n",
              "[5 rows x 13 columns]"
            ]
          },
          "metadata": {},
          "execution_count": 4
        }
      ]
    },
    {
      "cell_type": "code",
      "metadata": {
        "colab": {
          "base_uri": "https://localhost:8080/"
        },
        "id": "smlb0JtPziM8",
        "outputId": "3cc8be6d-64f9-4b2e-d52f-000cfd54639f"
      },
      "source": [
        "loandata.isnull().sum()"
      ],
      "execution_count": 5,
      "outputs": [
        {
          "output_type": "execute_result",
          "data": {
            "text/plain": [
              "Loan_ID               0\n",
              "Gender               13\n",
              "Married               3\n",
              "Dependents           15\n",
              "Education             0\n",
              "Self_Employed        32\n",
              "ApplicantIncome       0\n",
              "CoapplicantIncome     0\n",
              "LoanAmount           22\n",
              "Loan_Amount_Term     14\n",
              "Credit_History       50\n",
              "Property_Area         0\n",
              "Loan_Status           0\n",
              "dtype: int64"
            ]
          },
          "metadata": {},
          "execution_count": 5
        }
      ]
    },
    {
      "cell_type": "code",
      "metadata": {
        "id": "dzc7DZn4zpqa"
      },
      "source": [
        "# null data 삭제\n",
        "# loandata = loandata.dropna(inplace=False)\n",
        "loandata.dropna(inplace=True)"
      ],
      "execution_count": 6,
      "outputs": []
    },
    {
      "cell_type": "code",
      "metadata": {
        "colab": {
          "base_uri": "https://localhost:8080/"
        },
        "id": "rZD7RU6F0Tsd",
        "outputId": "66ddfeea-78d1-4297-ee8d-788e2bec475b"
      },
      "source": [
        "loandata.isnull().sum()"
      ],
      "execution_count": 7,
      "outputs": [
        {
          "output_type": "execute_result",
          "data": {
            "text/plain": [
              "Loan_ID              0\n",
              "Gender               0\n",
              "Married              0\n",
              "Dependents           0\n",
              "Education            0\n",
              "Self_Employed        0\n",
              "ApplicantIncome      0\n",
              "CoapplicantIncome    0\n",
              "LoanAmount           0\n",
              "Loan_Amount_Term     0\n",
              "Credit_History       0\n",
              "Property_Area        0\n",
              "Loan_Status          0\n",
              "dtype: int64"
            ]
          },
          "metadata": {},
          "execution_count": 7
        }
      ]
    },
    {
      "cell_type": "code",
      "metadata": {
        "colab": {
          "base_uri": "https://localhost:8080/",
          "height": 241
        },
        "id": "Z10fDXnF0Wla",
        "outputId": "47d84e88-0f20-4e5c-f92b-83a622cb39e2"
      },
      "source": [
        "loandata.head()"
      ],
      "execution_count": 8,
      "outputs": [
        {
          "output_type": "execute_result",
          "data": {
            "text/html": [
              "<div>\n",
              "<style scoped>\n",
              "    .dataframe tbody tr th:only-of-type {\n",
              "        vertical-align: middle;\n",
              "    }\n",
              "\n",
              "    .dataframe tbody tr th {\n",
              "        vertical-align: top;\n",
              "    }\n",
              "\n",
              "    .dataframe thead th {\n",
              "        text-align: right;\n",
              "    }\n",
              "</style>\n",
              "<table border=\"1\" class=\"dataframe\">\n",
              "  <thead>\n",
              "    <tr style=\"text-align: right;\">\n",
              "      <th></th>\n",
              "      <th>Loan_ID</th>\n",
              "      <th>Gender</th>\n",
              "      <th>Married</th>\n",
              "      <th>Dependents</th>\n",
              "      <th>Education</th>\n",
              "      <th>Self_Employed</th>\n",
              "      <th>ApplicantIncome</th>\n",
              "      <th>CoapplicantIncome</th>\n",
              "      <th>LoanAmount</th>\n",
              "      <th>Loan_Amount_Term</th>\n",
              "      <th>Credit_History</th>\n",
              "      <th>Property_Area</th>\n",
              "      <th>Loan_Status</th>\n",
              "    </tr>\n",
              "  </thead>\n",
              "  <tbody>\n",
              "    <tr>\n",
              "      <th>1</th>\n",
              "      <td>LP001003</td>\n",
              "      <td>Male</td>\n",
              "      <td>Yes</td>\n",
              "      <td>1</td>\n",
              "      <td>Graduate</td>\n",
              "      <td>No</td>\n",
              "      <td>4583</td>\n",
              "      <td>1508.0</td>\n",
              "      <td>128.0</td>\n",
              "      <td>360.0</td>\n",
              "      <td>1.0</td>\n",
              "      <td>Rural</td>\n",
              "      <td>N</td>\n",
              "    </tr>\n",
              "    <tr>\n",
              "      <th>2</th>\n",
              "      <td>LP001005</td>\n",
              "      <td>Male</td>\n",
              "      <td>Yes</td>\n",
              "      <td>0</td>\n",
              "      <td>Graduate</td>\n",
              "      <td>Yes</td>\n",
              "      <td>3000</td>\n",
              "      <td>0.0</td>\n",
              "      <td>66.0</td>\n",
              "      <td>360.0</td>\n",
              "      <td>1.0</td>\n",
              "      <td>Urban</td>\n",
              "      <td>Y</td>\n",
              "    </tr>\n",
              "    <tr>\n",
              "      <th>3</th>\n",
              "      <td>LP001006</td>\n",
              "      <td>Male</td>\n",
              "      <td>Yes</td>\n",
              "      <td>0</td>\n",
              "      <td>Not Graduate</td>\n",
              "      <td>No</td>\n",
              "      <td>2583</td>\n",
              "      <td>2358.0</td>\n",
              "      <td>120.0</td>\n",
              "      <td>360.0</td>\n",
              "      <td>1.0</td>\n",
              "      <td>Urban</td>\n",
              "      <td>Y</td>\n",
              "    </tr>\n",
              "    <tr>\n",
              "      <th>4</th>\n",
              "      <td>LP001008</td>\n",
              "      <td>Male</td>\n",
              "      <td>No</td>\n",
              "      <td>0</td>\n",
              "      <td>Graduate</td>\n",
              "      <td>No</td>\n",
              "      <td>6000</td>\n",
              "      <td>0.0</td>\n",
              "      <td>141.0</td>\n",
              "      <td>360.0</td>\n",
              "      <td>1.0</td>\n",
              "      <td>Urban</td>\n",
              "      <td>Y</td>\n",
              "    </tr>\n",
              "    <tr>\n",
              "      <th>5</th>\n",
              "      <td>LP001011</td>\n",
              "      <td>Male</td>\n",
              "      <td>Yes</td>\n",
              "      <td>2</td>\n",
              "      <td>Graduate</td>\n",
              "      <td>Yes</td>\n",
              "      <td>5417</td>\n",
              "      <td>4196.0</td>\n",
              "      <td>267.0</td>\n",
              "      <td>360.0</td>\n",
              "      <td>1.0</td>\n",
              "      <td>Urban</td>\n",
              "      <td>Y</td>\n",
              "    </tr>\n",
              "  </tbody>\n",
              "</table>\n",
              "</div>"
            ],
            "text/plain": [
              "    Loan_ID Gender Married  ... Credit_History Property_Area Loan_Status\n",
              "1  LP001003   Male     Yes  ...            1.0         Rural           N\n",
              "2  LP001005   Male     Yes  ...            1.0         Urban           Y\n",
              "3  LP001006   Male     Yes  ...            1.0         Urban           Y\n",
              "4  LP001008   Male      No  ...            1.0         Urban           Y\n",
              "5  LP001011   Male     Yes  ...            1.0         Urban           Y\n",
              "\n",
              "[5 rows x 13 columns]"
            ]
          },
          "metadata": {},
          "execution_count": 8
        }
      ]
    },
    {
      "cell_type": "code",
      "metadata": {
        "id": "2fCgO6970bEf"
      },
      "source": [
        "# 분석할 데이터 선택\n",
        "loandata = loandata[['Gender', 'Married', 'Education', 'Self_Employed', 'Credit_History', 'Property_Area', 'Loan_Status']]\n",
        "\n",
        "# 문자 데이터 숫자로 바꿔주기\n",
        "loandata['Gender'] = loandata['Gender'].replace(to_replace='Male', value='1')\n",
        "loandata['Gender'] = loandata['Gender'].replace(to_replace='Female', value='0')\n",
        "\n",
        "loandata['Married'] = loandata['Married'].replace(to_replace='Yes', value='1')\n",
        "loandata['Married'] = loandata['Married'].replace(to_replace='No', value='0')\n",
        "\n",
        "loandata['Education'] = loandata['Education'].replace(to_replace='Graduate', value='1')\n",
        "loandata['Education'] = loandata['Education'].replace(to_replace='Not Graduate', value='0')\n",
        "\n",
        "loandata['Self_Employed'] = loandata['Self_Employed'].replace(to_replace='Yes', value='1')\n",
        "loandata['Self_Employed'] = loandata['Self_Employed'].replace(to_replace='No', value='0')\n",
        "\n",
        "loandata['Property_Area'] = loandata['Property_Area'].replace(to_replace='Rural', value='1')\n",
        "loandata['Property_Area'] = loandata['Property_Area'].replace(to_replace='Urban', value='0')\n",
        "loandata['Property_Area'] = loandata['Property_Area'].replace(to_replace='Semiurban', value='2')"
      ],
      "execution_count": 17,
      "outputs": []
    },
    {
      "cell_type": "code",
      "metadata": {
        "id": "dde8BYt_1YRD"
      },
      "source": [
        "from sklearn.model_selection import train_test_split\n",
        "\n",
        "x = loandata.drop(columns=['Loan_Status'])\n",
        "y = loandata.Loan_Status\n",
        "\n",
        "x_train, x_test, y_train, y_test = train_test_split(x,y,test_size=0.3, random_state=42)"
      ],
      "execution_count": 18,
      "outputs": []
    },
    {
      "cell_type": "code",
      "metadata": {
        "colab": {
          "base_uri": "https://localhost:8080/"
        },
        "id": "dT2ueTwS2AeB",
        "outputId": "d13aa5b4-d64e-49c4-b27f-b4d975954ff7"
      },
      "source": [
        "from sklearn.tree import DecisionTreeClassifier\n",
        "from sklearn import tree\n",
        "\n",
        "clf = tree.DecisionTreeClassifier(max_depth=4)\n",
        "clf.fit(x_train, y_train)"
      ],
      "execution_count": 19,
      "outputs": [
        {
          "output_type": "execute_result",
          "data": {
            "text/plain": [
              "DecisionTreeClassifier(ccp_alpha=0.0, class_weight=None, criterion='gini',\n",
              "                       max_depth=4, max_features=None, max_leaf_nodes=None,\n",
              "                       min_impurity_decrease=0.0, min_impurity_split=None,\n",
              "                       min_samples_leaf=1, min_samples_split=2,\n",
              "                       min_weight_fraction_leaf=0.0, presort='deprecated',\n",
              "                       random_state=None, splitter='best')"
            ]
          },
          "metadata": {},
          "execution_count": 19
        }
      ]
    },
    {
      "cell_type": "code",
      "metadata": {
        "colab": {
          "base_uri": "https://localhost:8080/",
          "height": 776
        },
        "id": "Qbw3LOC62QtR",
        "outputId": "5cdb7c60-f33f-4d0e-fa3a-670f00e28777"
      },
      "source": [
        "import graphviz \n",
        "dot_data = tree.export_graphviz(clf, out_file=None,\n",
        "feature_names=['Gender','Married','Education','Self_Employed', 'Property_Area', 'Credit_History'],\n",
        "class_names=['Yes','No'],filled=True,\n",
        "rounded=True,  \n",
        "special_characters=True) \n",
        "graph = graphviz.Source(dot_data)\n",
        "graph.render(\"Gini\")\n",
        "graph"
      ],
      "execution_count": 23,
      "outputs": [
        {
          "output_type": "execute_result",
          "data": {
            "text/plain": [
              "<graphviz.files.Source at 0x7f4baf202850>"
            ],
            "image/svg+xml": "<?xml version=\"1.0\" encoding=\"UTF-8\" standalone=\"no\"?>\n<!DOCTYPE svg PUBLIC \"-//W3C//DTD SVG 1.1//EN\"\n \"http://www.w3.org/Graphics/SVG/1.1/DTD/svg11.dtd\">\n<!-- Generated by graphviz version 2.40.1 (20161225.0304)\n -->\n<!-- Title: Tree Pages: 1 -->\n<svg width=\"1555pt\" height=\"552pt\"\n viewBox=\"0.00 0.00 1555.00 552.00\" xmlns=\"http://www.w3.org/2000/svg\" xmlns:xlink=\"http://www.w3.org/1999/xlink\">\n<g id=\"graph0\" class=\"graph\" transform=\"scale(1 1) rotate(0) translate(4 548)\">\n<title>Tree</title>\n<polygon fill=\"#ffffff\" stroke=\"transparent\" points=\"-4,4 -4,-548 1551,-548 1551,4 -4,4\"/>\n<!-- 0 -->\n<g id=\"node1\" class=\"node\">\n<title>0</title>\n<path fill=\"#92c9f1\" stroke=\"#000000\" d=\"M667.5,-544C667.5,-544 545.5,-544 545.5,-544 539.5,-544 533.5,-538 533.5,-532 533.5,-532 533.5,-473 533.5,-473 533.5,-467 539.5,-461 545.5,-461 545.5,-461 667.5,-461 667.5,-461 673.5,-461 679.5,-467 679.5,-473 679.5,-473 679.5,-532 679.5,-532 679.5,-538 673.5,-544 667.5,-544\"/>\n<text text-anchor=\"start\" x=\"541.5\" y=\"-528.8\" font-family=\"Helvetica,sans-Serif\" font-size=\"14.00\" fill=\"#000000\">Property_Area ≤ 0.5</text>\n<text text-anchor=\"start\" x=\"568.5\" y=\"-513.8\" font-family=\"Helvetica,sans-Serif\" font-size=\"14.00\" fill=\"#000000\">gini = 0.427</text>\n<text text-anchor=\"start\" x=\"558.5\" y=\"-498.8\" font-family=\"Helvetica,sans-Serif\" font-size=\"14.00\" fill=\"#000000\">samples = 336</text>\n<text text-anchor=\"start\" x=\"548.5\" y=\"-483.8\" font-family=\"Helvetica,sans-Serif\" font-size=\"14.00\" fill=\"#000000\">value = [104, 232]</text>\n<text text-anchor=\"start\" x=\"572\" y=\"-468.8\" font-family=\"Helvetica,sans-Serif\" font-size=\"14.00\" fill=\"#000000\">class = No</text>\n</g>\n<!-- 1 -->\n<g id=\"node2\" class=\"node\">\n<title>1</title>\n<path fill=\"#e99356\" stroke=\"#000000\" d=\"M474,-425C474,-425 355,-425 355,-425 349,-425 343,-419 343,-413 343,-413 343,-354 343,-354 343,-348 349,-342 355,-342 355,-342 474,-342 474,-342 480,-342 486,-348 486,-354 486,-354 486,-413 486,-413 486,-419 480,-425 474,-425\"/>\n<text text-anchor=\"start\" x=\"351\" y=\"-409.8\" font-family=\"Helvetica,sans-Serif\" font-size=\"14.00\" fill=\"#000000\">Credit_History ≤ 1.5</text>\n<text text-anchor=\"start\" x=\"376.5\" y=\"-394.8\" font-family=\"Helvetica,sans-Serif\" font-size=\"14.00\" fill=\"#000000\">gini = 0.222</text>\n<text text-anchor=\"start\" x=\"370.5\" y=\"-379.8\" font-family=\"Helvetica,sans-Serif\" font-size=\"14.00\" fill=\"#000000\">samples = 55</text>\n<text text-anchor=\"start\" x=\"369\" y=\"-364.8\" font-family=\"Helvetica,sans-Serif\" font-size=\"14.00\" fill=\"#000000\">value = [48, 7]</text>\n<text text-anchor=\"start\" x=\"377.5\" y=\"-349.8\" font-family=\"Helvetica,sans-Serif\" font-size=\"14.00\" fill=\"#000000\">class = Yes</text>\n</g>\n<!-- 0&#45;&gt;1 -->\n<g id=\"edge1\" class=\"edge\">\n<title>0&#45;&gt;1</title>\n<path fill=\"none\" stroke=\"#000000\" d=\"M539.3477,-460.8796C523.5628,-451.0962 506.6307,-440.6019 490.4886,-430.5971\"/>\n<polygon fill=\"#000000\" stroke=\"#000000\" points=\"491.9581,-427.3901 481.6144,-425.0969 488.2703,-433.34 491.9581,-427.3901\"/>\n<text text-anchor=\"middle\" x=\"487.3273\" y=\"-445.7354\" font-family=\"Helvetica,sans-Serif\" font-size=\"14.00\" fill=\"#000000\">True</text>\n</g>\n<!-- 12 -->\n<g id=\"node13\" class=\"node\">\n<title>12</title>\n<path fill=\"#6ab5eb\" stroke=\"#000000\" d=\"M851,-425C851,-425 732,-425 732,-425 726,-425 720,-419 720,-413 720,-413 720,-354 720,-354 720,-348 726,-342 732,-342 732,-342 851,-342 851,-342 857,-342 863,-348 863,-354 863,-354 863,-413 863,-413 863,-419 857,-425 851,-425\"/>\n<text text-anchor=\"start\" x=\"728\" y=\"-409.8\" font-family=\"Helvetica,sans-Serif\" font-size=\"14.00\" fill=\"#000000\">Credit_History ≤ 1.5</text>\n<text text-anchor=\"start\" x=\"753.5\" y=\"-394.8\" font-family=\"Helvetica,sans-Serif\" font-size=\"14.00\" fill=\"#000000\">gini = 0.319</text>\n<text text-anchor=\"start\" x=\"743.5\" y=\"-379.8\" font-family=\"Helvetica,sans-Serif\" font-size=\"14.00\" fill=\"#000000\">samples = 281</text>\n<text text-anchor=\"start\" x=\"737.5\" y=\"-364.8\" font-family=\"Helvetica,sans-Serif\" font-size=\"14.00\" fill=\"#000000\">value = [56, 225]</text>\n<text text-anchor=\"start\" x=\"757\" y=\"-349.8\" font-family=\"Helvetica,sans-Serif\" font-size=\"14.00\" fill=\"#000000\">class = No</text>\n</g>\n<!-- 0&#45;&gt;12 -->\n<g id=\"edge12\" class=\"edge\">\n<title>0&#45;&gt;12</title>\n<path fill=\"none\" stroke=\"#000000\" d=\"M671.204,-460.8796C686.4135,-451.0962 702.7282,-440.6019 718.2818,-430.5971\"/>\n<polygon fill=\"#000000\" stroke=\"#000000\" points=\"720.3157,-433.4505 726.8325,-425.0969 716.5287,-427.5632 720.3157,-433.4505\"/>\n<text text-anchor=\"middle\" x=\"721.5284\" y=\"-445.8278\" font-family=\"Helvetica,sans-Serif\" font-size=\"14.00\" fill=\"#000000\">False</text>\n</g>\n<!-- 2 -->\n<g id=\"node3\" class=\"node\">\n<title>2</title>\n<path fill=\"#e78c4a\" stroke=\"#000000\" d=\"M247,-306C247,-306 154,-306 154,-306 148,-306 142,-300 142,-294 142,-294 142,-235 142,-235 142,-229 148,-223 154,-223 154,-223 247,-223 247,-223 253,-223 259,-229 259,-235 259,-235 259,-294 259,-294 259,-300 253,-306 247,-306\"/>\n<text text-anchor=\"start\" x=\"150\" y=\"-290.8\" font-family=\"Helvetica,sans-Serif\" font-size=\"14.00\" fill=\"#000000\">Education ≤ 0.5</text>\n<text text-anchor=\"start\" x=\"162.5\" y=\"-275.8\" font-family=\"Helvetica,sans-Serif\" font-size=\"14.00\" fill=\"#000000\">gini = 0.149</text>\n<text text-anchor=\"start\" x=\"156.5\" y=\"-260.8\" font-family=\"Helvetica,sans-Serif\" font-size=\"14.00\" fill=\"#000000\">samples = 37</text>\n<text text-anchor=\"start\" x=\"155\" y=\"-245.8\" font-family=\"Helvetica,sans-Serif\" font-size=\"14.00\" fill=\"#000000\">value = [34, 3]</text>\n<text text-anchor=\"start\" x=\"163.5\" y=\"-230.8\" font-family=\"Helvetica,sans-Serif\" font-size=\"14.00\" fill=\"#000000\">class = Yes</text>\n</g>\n<!-- 1&#45;&gt;2 -->\n<g id=\"edge2\" class=\"edge\">\n<title>1&#45;&gt;2</title>\n<path fill=\"none\" stroke=\"#000000\" d=\"M342.9436,-343.7093C318.8093,-330.2888 291.963,-315.3603 268.141,-302.1134\"/>\n<polygon fill=\"#000000\" stroke=\"#000000\" points=\"269.6116,-298.9265 259.171,-297.1255 266.2097,-305.0443 269.6116,-298.9265\"/>\n</g>\n<!-- 7 -->\n<g id=\"node8\" class=\"node\">\n<title>7</title>\n<path fill=\"#eca572\" stroke=\"#000000\" d=\"M461,-306C461,-306 368,-306 368,-306 362,-306 356,-300 356,-294 356,-294 356,-235 356,-235 356,-229 362,-223 368,-223 368,-223 461,-223 461,-223 467,-223 473,-229 473,-235 473,-235 473,-294 473,-294 473,-300 467,-306 461,-306\"/>\n<text text-anchor=\"start\" x=\"364\" y=\"-290.8\" font-family=\"Helvetica,sans-Serif\" font-size=\"14.00\" fill=\"#000000\">Education ≤ 0.5</text>\n<text text-anchor=\"start\" x=\"376.5\" y=\"-275.8\" font-family=\"Helvetica,sans-Serif\" font-size=\"14.00\" fill=\"#000000\">gini = 0.346</text>\n<text text-anchor=\"start\" x=\"370.5\" y=\"-260.8\" font-family=\"Helvetica,sans-Serif\" font-size=\"14.00\" fill=\"#000000\">samples = 18</text>\n<text text-anchor=\"start\" x=\"369\" y=\"-245.8\" font-family=\"Helvetica,sans-Serif\" font-size=\"14.00\" fill=\"#000000\">value = [14, 4]</text>\n<text text-anchor=\"start\" x=\"377.5\" y=\"-230.8\" font-family=\"Helvetica,sans-Serif\" font-size=\"14.00\" fill=\"#000000\">class = Yes</text>\n</g>\n<!-- 1&#45;&gt;7 -->\n<g id=\"edge7\" class=\"edge\">\n<title>1&#45;&gt;7</title>\n<path fill=\"none\" stroke=\"#000000\" d=\"M414.5,-341.8796C414.5,-333.6838 414.5,-324.9891 414.5,-316.5013\"/>\n<polygon fill=\"#000000\" stroke=\"#000000\" points=\"418.0001,-316.298 414.5,-306.2981 411.0001,-316.2981 418.0001,-316.298\"/>\n</g>\n<!-- 3 -->\n<g id=\"node4\" class=\"node\">\n<title>3</title>\n<path fill=\"#e58139\" stroke=\"#000000\" d=\"M95,-179.5C95,-179.5 12,-179.5 12,-179.5 6,-179.5 0,-173.5 0,-167.5 0,-167.5 0,-123.5 0,-123.5 0,-117.5 6,-111.5 12,-111.5 12,-111.5 95,-111.5 95,-111.5 101,-111.5 107,-117.5 107,-123.5 107,-123.5 107,-167.5 107,-167.5 107,-173.5 101,-179.5 95,-179.5\"/>\n<text text-anchor=\"start\" x=\"24\" y=\"-164.3\" font-family=\"Helvetica,sans-Serif\" font-size=\"14.00\" fill=\"#000000\">gini = 0.0</text>\n<text text-anchor=\"start\" x=\"9.5\" y=\"-149.3\" font-family=\"Helvetica,sans-Serif\" font-size=\"14.00\" fill=\"#000000\">samples = 10</text>\n<text text-anchor=\"start\" x=\"8\" y=\"-134.3\" font-family=\"Helvetica,sans-Serif\" font-size=\"14.00\" fill=\"#000000\">value = [10, 0]</text>\n<text text-anchor=\"start\" x=\"16.5\" y=\"-119.3\" font-family=\"Helvetica,sans-Serif\" font-size=\"14.00\" fill=\"#000000\">class = Yes</text>\n</g>\n<!-- 2&#45;&gt;3 -->\n<g id=\"edge3\" class=\"edge\">\n<title>2&#45;&gt;3</title>\n<path fill=\"none\" stroke=\"#000000\" d=\"M149.0865,-222.8796C134.4165,-211.0038 118.4523,-198.0804 103.8467,-186.2568\"/>\n<polygon fill=\"#000000\" stroke=\"#000000\" points=\"105.8637,-183.3866 95.889,-179.8149 101.4593,-188.8273 105.8637,-183.3866\"/>\n</g>\n<!-- 4 -->\n<g id=\"node5\" class=\"node\">\n<title>4</title>\n<path fill=\"#e89152\" stroke=\"#000000\" d=\"M263.5,-187C263.5,-187 137.5,-187 137.5,-187 131.5,-187 125.5,-181 125.5,-175 125.5,-175 125.5,-116 125.5,-116 125.5,-110 131.5,-104 137.5,-104 137.5,-104 263.5,-104 263.5,-104 269.5,-104 275.5,-110 275.5,-116 275.5,-116 275.5,-175 275.5,-175 275.5,-181 269.5,-187 263.5,-187\"/>\n<text text-anchor=\"start\" x=\"133.5\" y=\"-171.8\" font-family=\"Helvetica,sans-Serif\" font-size=\"14.00\" fill=\"#000000\">Self_Employed ≤ 0.5</text>\n<text text-anchor=\"start\" x=\"162.5\" y=\"-156.8\" font-family=\"Helvetica,sans-Serif\" font-size=\"14.00\" fill=\"#000000\">gini = 0.198</text>\n<text text-anchor=\"start\" x=\"156.5\" y=\"-141.8\" font-family=\"Helvetica,sans-Serif\" font-size=\"14.00\" fill=\"#000000\">samples = 27</text>\n<text text-anchor=\"start\" x=\"155\" y=\"-126.8\" font-family=\"Helvetica,sans-Serif\" font-size=\"14.00\" fill=\"#000000\">value = [24, 3]</text>\n<text text-anchor=\"start\" x=\"163.5\" y=\"-111.8\" font-family=\"Helvetica,sans-Serif\" font-size=\"14.00\" fill=\"#000000\">class = Yes</text>\n</g>\n<!-- 2&#45;&gt;4 -->\n<g id=\"edge4\" class=\"edge\">\n<title>2&#45;&gt;4</title>\n<path fill=\"none\" stroke=\"#000000\" d=\"M200.5,-222.8796C200.5,-214.6838 200.5,-205.9891 200.5,-197.5013\"/>\n<polygon fill=\"#000000\" stroke=\"#000000\" points=\"204.0001,-197.298 200.5,-187.2981 197.0001,-197.2981 204.0001,-197.298\"/>\n</g>\n<!-- 5 -->\n<g id=\"node6\" class=\"node\">\n<title>5</title>\n<path fill=\"#ea975c\" stroke=\"#000000\" d=\"M143,-68C143,-68 60,-68 60,-68 54,-68 48,-62 48,-56 48,-56 48,-12 48,-12 48,-6 54,0 60,0 60,0 143,0 143,0 149,0 155,-6 155,-12 155,-12 155,-56 155,-56 155,-62 149,-68 143,-68\"/>\n<text text-anchor=\"start\" x=\"63.5\" y=\"-52.8\" font-family=\"Helvetica,sans-Serif\" font-size=\"14.00\" fill=\"#000000\">gini = 0.255</text>\n<text text-anchor=\"start\" x=\"57.5\" y=\"-37.8\" font-family=\"Helvetica,sans-Serif\" font-size=\"14.00\" fill=\"#000000\">samples = 20</text>\n<text text-anchor=\"start\" x=\"56\" y=\"-22.8\" font-family=\"Helvetica,sans-Serif\" font-size=\"14.00\" fill=\"#000000\">value = [17, 3]</text>\n<text text-anchor=\"start\" x=\"64.5\" y=\"-7.8\" font-family=\"Helvetica,sans-Serif\" font-size=\"14.00\" fill=\"#000000\">class = Yes</text>\n</g>\n<!-- 4&#45;&gt;5 -->\n<g id=\"edge5\" class=\"edge\">\n<title>4&#45;&gt;5</title>\n<path fill=\"none\" stroke=\"#000000\" d=\"M163.6361,-103.9815C155.4757,-94.7908 146.8244,-85.0472 138.6526,-75.8436\"/>\n<polygon fill=\"#000000\" stroke=\"#000000\" points=\"141.1792,-73.4177 131.9225,-68.2637 135.9447,-78.0653 141.1792,-73.4177\"/>\n</g>\n<!-- 6 -->\n<g id=\"node7\" class=\"node\">\n<title>6</title>\n<path fill=\"#e58139\" stroke=\"#000000\" d=\"M260,-68C260,-68 185,-68 185,-68 179,-68 173,-62 173,-56 173,-56 173,-12 173,-12 173,-6 179,0 185,0 185,0 260,0 260,0 266,0 272,-6 272,-12 272,-12 272,-56 272,-56 272,-62 266,-68 260,-68\"/>\n<text text-anchor=\"start\" x=\"193\" y=\"-52.8\" font-family=\"Helvetica,sans-Serif\" font-size=\"14.00\" fill=\"#000000\">gini = 0.0</text>\n<text text-anchor=\"start\" x=\"183\" y=\"-37.8\" font-family=\"Helvetica,sans-Serif\" font-size=\"14.00\" fill=\"#000000\">samples = 7</text>\n<text text-anchor=\"start\" x=\"181\" y=\"-22.8\" font-family=\"Helvetica,sans-Serif\" font-size=\"14.00\" fill=\"#000000\">value = [7, 0]</text>\n<text text-anchor=\"start\" x=\"185.5\" y=\"-7.8\" font-family=\"Helvetica,sans-Serif\" font-size=\"14.00\" fill=\"#000000\">class = Yes</text>\n</g>\n<!-- 4&#45;&gt;6 -->\n<g id=\"edge6\" class=\"edge\">\n<title>4&#45;&gt;6</title>\n<path fill=\"none\" stroke=\"#000000\" d=\"M208.692,-103.9815C210.3422,-95.618 212.0827,-86.7965 213.7511,-78.3409\"/>\n<polygon fill=\"#000000\" stroke=\"#000000\" points=\"217.2374,-78.7521 215.7395,-68.2637 210.3698,-77.397 217.2374,-78.7521\"/>\n</g>\n<!-- 8 -->\n<g id=\"node9\" class=\"node\">\n<title>8</title>\n<path fill=\"#ffffff\" stroke=\"#000000\" d=\"M381,-179.5C381,-179.5 306,-179.5 306,-179.5 300,-179.5 294,-173.5 294,-167.5 294,-167.5 294,-123.5 294,-123.5 294,-117.5 300,-111.5 306,-111.5 306,-111.5 381,-111.5 381,-111.5 387,-111.5 393,-117.5 393,-123.5 393,-123.5 393,-167.5 393,-167.5 393,-173.5 387,-179.5 381,-179.5\"/>\n<text text-anchor=\"start\" x=\"314\" y=\"-164.3\" font-family=\"Helvetica,sans-Serif\" font-size=\"14.00\" fill=\"#000000\">gini = 0.5</text>\n<text text-anchor=\"start\" x=\"304\" y=\"-149.3\" font-family=\"Helvetica,sans-Serif\" font-size=\"14.00\" fill=\"#000000\">samples = 2</text>\n<text text-anchor=\"start\" x=\"302\" y=\"-134.3\" font-family=\"Helvetica,sans-Serif\" font-size=\"14.00\" fill=\"#000000\">value = [1, 1]</text>\n<text text-anchor=\"start\" x=\"306.5\" y=\"-119.3\" font-family=\"Helvetica,sans-Serif\" font-size=\"14.00\" fill=\"#000000\">class = Yes</text>\n</g>\n<!-- 7&#45;&gt;8 -->\n<g id=\"edge8\" class=\"edge\">\n<title>7&#45;&gt;8</title>\n<path fill=\"none\" stroke=\"#000000\" d=\"M389.6676,-222.8796C383.0413,-211.7735 375.8684,-199.7513 369.1967,-188.5691\"/>\n<polygon fill=\"#000000\" stroke=\"#000000\" points=\"372.1031,-186.6093 363.9736,-179.8149 366.0917,-190.1959 372.1031,-186.6093\"/>\n</g>\n<!-- 9 -->\n<g id=\"node10\" class=\"node\">\n<title>9</title>\n<path fill=\"#eb9e67\" stroke=\"#000000\" d=\"M549.5,-187C549.5,-187 423.5,-187 423.5,-187 417.5,-187 411.5,-181 411.5,-175 411.5,-175 411.5,-116 411.5,-116 411.5,-110 417.5,-104 423.5,-104 423.5,-104 549.5,-104 549.5,-104 555.5,-104 561.5,-110 561.5,-116 561.5,-116 561.5,-175 561.5,-175 561.5,-181 555.5,-187 549.5,-187\"/>\n<text text-anchor=\"start\" x=\"419.5\" y=\"-171.8\" font-family=\"Helvetica,sans-Serif\" font-size=\"14.00\" fill=\"#000000\">Self_Employed ≤ 0.5</text>\n<text text-anchor=\"start\" x=\"448.5\" y=\"-156.8\" font-family=\"Helvetica,sans-Serif\" font-size=\"14.00\" fill=\"#000000\">gini = 0.305</text>\n<text text-anchor=\"start\" x=\"442.5\" y=\"-141.8\" font-family=\"Helvetica,sans-Serif\" font-size=\"14.00\" fill=\"#000000\">samples = 16</text>\n<text text-anchor=\"start\" x=\"441\" y=\"-126.8\" font-family=\"Helvetica,sans-Serif\" font-size=\"14.00\" fill=\"#000000\">value = [13, 3]</text>\n<text text-anchor=\"start\" x=\"449.5\" y=\"-111.8\" font-family=\"Helvetica,sans-Serif\" font-size=\"14.00\" fill=\"#000000\">class = Yes</text>\n</g>\n<!-- 7&#45;&gt;9 -->\n<g id=\"edge9\" class=\"edge\">\n<title>7&#45;&gt;9</title>\n<path fill=\"none\" stroke=\"#000000\" d=\"M439.6821,-222.8796C444.9133,-214.2335 450.4805,-205.0322 455.8823,-196.1042\"/>\n<polygon fill=\"#000000\" stroke=\"#000000\" points=\"459.0283,-197.6658 461.2104,-187.2981 453.0392,-194.0421 459.0283,-197.6658\"/>\n</g>\n<!-- 10 -->\n<g id=\"node11\" class=\"node\">\n<title>10</title>\n<path fill=\"#eca36f\" stroke=\"#000000\" d=\"M407,-68C407,-68 324,-68 324,-68 318,-68 312,-62 312,-56 312,-56 312,-12 312,-12 312,-6 318,0 324,0 324,0 407,0 407,0 413,0 419,-6 419,-12 419,-12 419,-56 419,-56 419,-62 413,-68 407,-68\"/>\n<text text-anchor=\"start\" x=\"327.5\" y=\"-52.8\" font-family=\"Helvetica,sans-Serif\" font-size=\"14.00\" fill=\"#000000\">gini = 0.337</text>\n<text text-anchor=\"start\" x=\"321.5\" y=\"-37.8\" font-family=\"Helvetica,sans-Serif\" font-size=\"14.00\" fill=\"#000000\">samples = 14</text>\n<text text-anchor=\"start\" x=\"320\" y=\"-22.8\" font-family=\"Helvetica,sans-Serif\" font-size=\"14.00\" fill=\"#000000\">value = [11, 3]</text>\n<text text-anchor=\"start\" x=\"328.5\" y=\"-7.8\" font-family=\"Helvetica,sans-Serif\" font-size=\"14.00\" fill=\"#000000\">class = Yes</text>\n</g>\n<!-- 9&#45;&gt;10 -->\n<g id=\"edge10\" class=\"edge\">\n<title>9&#45;&gt;10</title>\n<path fill=\"none\" stroke=\"#000000\" d=\"M441.4441,-103.9815C431.2709,-94.607 420.4733,-84.6572 410.3102,-75.2921\"/>\n<polygon fill=\"#000000\" stroke=\"#000000\" points=\"412.4087,-72.4663 402.683,-68.2637 407.6651,-77.6141 412.4087,-72.4663\"/>\n</g>\n<!-- 11 -->\n<g id=\"node12\" class=\"node\">\n<title>11</title>\n<path fill=\"#e58139\" stroke=\"#000000\" d=\"M524,-68C524,-68 449,-68 449,-68 443,-68 437,-62 437,-56 437,-56 437,-12 437,-12 437,-6 443,0 449,0 449,0 524,0 524,0 530,0 536,-6 536,-12 536,-12 536,-56 536,-56 536,-62 530,-68 524,-68\"/>\n<text text-anchor=\"start\" x=\"457\" y=\"-52.8\" font-family=\"Helvetica,sans-Serif\" font-size=\"14.00\" fill=\"#000000\">gini = 0.0</text>\n<text text-anchor=\"start\" x=\"447\" y=\"-37.8\" font-family=\"Helvetica,sans-Serif\" font-size=\"14.00\" fill=\"#000000\">samples = 2</text>\n<text text-anchor=\"start\" x=\"445\" y=\"-22.8\" font-family=\"Helvetica,sans-Serif\" font-size=\"14.00\" fill=\"#000000\">value = [2, 0]</text>\n<text text-anchor=\"start\" x=\"449.5\" y=\"-7.8\" font-family=\"Helvetica,sans-Serif\" font-size=\"14.00\" fill=\"#000000\">class = Yes</text>\n</g>\n<!-- 9&#45;&gt;11 -->\n<g id=\"edge11\" class=\"edge\">\n<title>9&#45;&gt;11</title>\n<path fill=\"none\" stroke=\"#000000\" d=\"M486.5,-103.9815C486.5,-95.618 486.5,-86.7965 486.5,-78.3409\"/>\n<polygon fill=\"#000000\" stroke=\"#000000\" points=\"490.0001,-78.2636 486.5,-68.2637 483.0001,-78.2637 490.0001,-78.2636\"/>\n</g>\n<!-- 13 -->\n<g id=\"node14\" class=\"node\">\n<title>13</title>\n<path fill=\"#78bced\" stroke=\"#000000\" d=\"M841.5,-306C841.5,-306 741.5,-306 741.5,-306 735.5,-306 729.5,-300 729.5,-294 729.5,-294 729.5,-235 729.5,-235 729.5,-229 735.5,-223 741.5,-223 741.5,-223 841.5,-223 841.5,-223 847.5,-223 853.5,-229 853.5,-235 853.5,-235 853.5,-294 853.5,-294 853.5,-300 847.5,-306 841.5,-306\"/>\n<text text-anchor=\"start\" x=\"749\" y=\"-290.8\" font-family=\"Helvetica,sans-Serif\" font-size=\"14.00\" fill=\"#000000\">Gender ≤ 0.5</text>\n<text text-anchor=\"start\" x=\"753.5\" y=\"-275.8\" font-family=\"Helvetica,sans-Serif\" font-size=\"14.00\" fill=\"#000000\">gini = 0.366</text>\n<text text-anchor=\"start\" x=\"743.5\" y=\"-260.8\" font-family=\"Helvetica,sans-Serif\" font-size=\"14.00\" fill=\"#000000\">samples = 162</text>\n<text text-anchor=\"start\" x=\"737.5\" y=\"-245.8\" font-family=\"Helvetica,sans-Serif\" font-size=\"14.00\" fill=\"#000000\">value = [39, 123]</text>\n<text text-anchor=\"start\" x=\"757\" y=\"-230.8\" font-family=\"Helvetica,sans-Serif\" font-size=\"14.00\" fill=\"#000000\">class = No</text>\n</g>\n<!-- 12&#45;&gt;13 -->\n<g id=\"edge13\" class=\"edge\">\n<title>12&#45;&gt;13</title>\n<path fill=\"none\" stroke=\"#000000\" d=\"M791.5,-341.8796C791.5,-333.6838 791.5,-324.9891 791.5,-316.5013\"/>\n<polygon fill=\"#000000\" stroke=\"#000000\" points=\"795.0001,-316.298 791.5,-306.2981 788.0001,-316.2981 795.0001,-316.298\"/>\n</g>\n<!-- 20 -->\n<g id=\"node21\" class=\"node\">\n<title>20</title>\n<path fill=\"#5aade9\" stroke=\"#000000\" d=\"M1230.5,-306C1230.5,-306 1130.5,-306 1130.5,-306 1124.5,-306 1118.5,-300 1118.5,-294 1118.5,-294 1118.5,-235 1118.5,-235 1118.5,-229 1124.5,-223 1130.5,-223 1130.5,-223 1230.5,-223 1230.5,-223 1236.5,-223 1242.5,-229 1242.5,-235 1242.5,-235 1242.5,-294 1242.5,-294 1242.5,-300 1236.5,-306 1230.5,-306\"/>\n<text text-anchor=\"start\" x=\"1138\" y=\"-290.8\" font-family=\"Helvetica,sans-Serif\" font-size=\"14.00\" fill=\"#000000\">Married ≤ 0.5</text>\n<text text-anchor=\"start\" x=\"1142.5\" y=\"-275.8\" font-family=\"Helvetica,sans-Serif\" font-size=\"14.00\" fill=\"#000000\">gini = 0.245</text>\n<text text-anchor=\"start\" x=\"1132.5\" y=\"-260.8\" font-family=\"Helvetica,sans-Serif\" font-size=\"14.00\" fill=\"#000000\">samples = 119</text>\n<text text-anchor=\"start\" x=\"1126.5\" y=\"-245.8\" font-family=\"Helvetica,sans-Serif\" font-size=\"14.00\" fill=\"#000000\">value = [17, 102]</text>\n<text text-anchor=\"start\" x=\"1146\" y=\"-230.8\" font-family=\"Helvetica,sans-Serif\" font-size=\"14.00\" fill=\"#000000\">class = No</text>\n</g>\n<!-- 12&#45;&gt;20 -->\n<g id=\"edge20\" class=\"edge\">\n<title>12&#45;&gt;20</title>\n<path fill=\"none\" stroke=\"#000000\" d=\"M863.3019,-361.5349C933.2263,-340.1441 1038.9107,-307.8139 1108.8002,-286.4339\"/>\n<polygon fill=\"#000000\" stroke=\"#000000\" points=\"1109.8783,-289.7643 1118.4169,-283.492 1107.8305,-283.0705 1109.8783,-289.7643\"/>\n</g>\n<!-- 14 -->\n<g id=\"node15\" class=\"node\">\n<title>14</title>\n<path fill=\"#b2d9f5\" stroke=\"#000000\" d=\"M768.5,-187C768.5,-187 676.5,-187 676.5,-187 670.5,-187 664.5,-181 664.5,-175 664.5,-175 664.5,-116 664.5,-116 664.5,-110 670.5,-104 676.5,-104 676.5,-104 768.5,-104 768.5,-104 774.5,-104 780.5,-110 780.5,-116 780.5,-116 780.5,-175 780.5,-175 780.5,-181 774.5,-187 768.5,-187\"/>\n<text text-anchor=\"start\" x=\"680\" y=\"-171.8\" font-family=\"Helvetica,sans-Serif\" font-size=\"14.00\" fill=\"#000000\">Married ≤ 0.5</text>\n<text text-anchor=\"start\" x=\"684.5\" y=\"-156.8\" font-family=\"Helvetica,sans-Serif\" font-size=\"14.00\" fill=\"#000000\">gini = 0.471</text>\n<text text-anchor=\"start\" x=\"678.5\" y=\"-141.8\" font-family=\"Helvetica,sans-Serif\" font-size=\"14.00\" fill=\"#000000\">samples = 29</text>\n<text text-anchor=\"start\" x=\"672.5\" y=\"-126.8\" font-family=\"Helvetica,sans-Serif\" font-size=\"14.00\" fill=\"#000000\">value = [11, 18]</text>\n<text text-anchor=\"start\" x=\"688\" y=\"-111.8\" font-family=\"Helvetica,sans-Serif\" font-size=\"14.00\" fill=\"#000000\">class = No</text>\n</g>\n<!-- 13&#45;&gt;14 -->\n<g id=\"edge14\" class=\"edge\">\n<title>13&#45;&gt;14</title>\n<path fill=\"none\" stroke=\"#000000\" d=\"M767.3671,-222.8796C762.3539,-214.2335 757.0187,-205.0322 751.8419,-196.1042\"/>\n<polygon fill=\"#000000\" stroke=\"#000000\" points=\"754.7798,-194.1934 746.7359,-187.2981 748.7242,-197.7047 754.7798,-194.1934\"/>\n</g>\n<!-- 17 -->\n<g id=\"node18\" class=\"node\">\n<title>17</title>\n<path fill=\"#6eb7ec\" stroke=\"#000000\" d=\"M910.5,-187C910.5,-187 810.5,-187 810.5,-187 804.5,-187 798.5,-181 798.5,-175 798.5,-175 798.5,-116 798.5,-116 798.5,-110 804.5,-104 810.5,-104 810.5,-104 910.5,-104 910.5,-104 916.5,-104 922.5,-110 922.5,-116 922.5,-116 922.5,-175 922.5,-175 922.5,-181 916.5,-187 910.5,-187\"/>\n<text text-anchor=\"start\" x=\"818\" y=\"-171.8\" font-family=\"Helvetica,sans-Serif\" font-size=\"14.00\" fill=\"#000000\">Married ≤ 0.5</text>\n<text text-anchor=\"start\" x=\"822.5\" y=\"-156.8\" font-family=\"Helvetica,sans-Serif\" font-size=\"14.00\" fill=\"#000000\">gini = 0.332</text>\n<text text-anchor=\"start\" x=\"812.5\" y=\"-141.8\" font-family=\"Helvetica,sans-Serif\" font-size=\"14.00\" fill=\"#000000\">samples = 133</text>\n<text text-anchor=\"start\" x=\"806.5\" y=\"-126.8\" font-family=\"Helvetica,sans-Serif\" font-size=\"14.00\" fill=\"#000000\">value = [28, 105]</text>\n<text text-anchor=\"start\" x=\"826\" y=\"-111.8\" font-family=\"Helvetica,sans-Serif\" font-size=\"14.00\" fill=\"#000000\">class = No</text>\n</g>\n<!-- 13&#45;&gt;17 -->\n<g id=\"edge17\" class=\"edge\">\n<title>13&#45;&gt;17</title>\n<path fill=\"none\" stroke=\"#000000\" d=\"M815.6329,-222.8796C820.6461,-214.2335 825.9813,-205.0322 831.1581,-196.1042\"/>\n<polygon fill=\"#000000\" stroke=\"#000000\" points=\"834.2758,-197.7047 836.2641,-187.2981 828.2202,-194.1934 834.2758,-197.7047\"/>\n</g>\n<!-- 15 -->\n<g id=\"node16\" class=\"node\">\n<title>15</title>\n<path fill=\"#a3d1f3\" stroke=\"#000000\" d=\"M649,-68C649,-68 566,-68 566,-68 560,-68 554,-62 554,-56 554,-56 554,-12 554,-12 554,-6 560,0 566,0 566,0 649,0 649,0 655,0 661,-6 661,-12 661,-12 661,-56 661,-56 661,-62 655,-68 649,-68\"/>\n<text text-anchor=\"start\" x=\"569.5\" y=\"-52.8\" font-family=\"Helvetica,sans-Serif\" font-size=\"14.00\" fill=\"#000000\">gini = 0.454</text>\n<text text-anchor=\"start\" x=\"563.5\" y=\"-37.8\" font-family=\"Helvetica,sans-Serif\" font-size=\"14.00\" fill=\"#000000\">samples = 23</text>\n<text text-anchor=\"start\" x=\"562\" y=\"-22.8\" font-family=\"Helvetica,sans-Serif\" font-size=\"14.00\" fill=\"#000000\">value = [8, 15]</text>\n<text text-anchor=\"start\" x=\"573\" y=\"-7.8\" font-family=\"Helvetica,sans-Serif\" font-size=\"14.00\" fill=\"#000000\">class = No</text>\n</g>\n<!-- 14&#45;&gt;15 -->\n<g id=\"edge15\" class=\"edge\">\n<title>14&#45;&gt;15</title>\n<path fill=\"none\" stroke=\"#000000\" d=\"M679.6782,-103.9815C670.0095,-94.607 659.7473,-84.6572 650.0882,-75.2921\"/>\n<polygon fill=\"#000000\" stroke=\"#000000\" points=\"652.4551,-72.7118 642.8392,-68.2637 647.5824,-77.7375 652.4551,-72.7118\"/>\n</g>\n<!-- 16 -->\n<g id=\"node17\" class=\"node\">\n<title>16</title>\n<path fill=\"#ffffff\" stroke=\"#000000\" d=\"M766,-68C766,-68 691,-68 691,-68 685,-68 679,-62 679,-56 679,-56 679,-12 679,-12 679,-6 685,0 691,0 691,0 766,0 766,0 772,0 778,-6 778,-12 778,-12 778,-56 778,-56 778,-62 772,-68 766,-68\"/>\n<text text-anchor=\"start\" x=\"699\" y=\"-52.8\" font-family=\"Helvetica,sans-Serif\" font-size=\"14.00\" fill=\"#000000\">gini = 0.5</text>\n<text text-anchor=\"start\" x=\"689\" y=\"-37.8\" font-family=\"Helvetica,sans-Serif\" font-size=\"14.00\" fill=\"#000000\">samples = 6</text>\n<text text-anchor=\"start\" x=\"687\" y=\"-22.8\" font-family=\"Helvetica,sans-Serif\" font-size=\"14.00\" fill=\"#000000\">value = [3, 3]</text>\n<text text-anchor=\"start\" x=\"691.5\" y=\"-7.8\" font-family=\"Helvetica,sans-Serif\" font-size=\"14.00\" fill=\"#000000\">class = Yes</text>\n</g>\n<!-- 14&#45;&gt;16 -->\n<g id=\"edge16\" class=\"edge\">\n<title>14&#45;&gt;16</title>\n<path fill=\"none\" stroke=\"#000000\" d=\"M724.7342,-103.9815C725.1842,-95.618 725.6589,-86.7965 726.1139,-78.3409\"/>\n<polygon fill=\"#000000\" stroke=\"#000000\" points=\"729.6137,-78.4373 726.6562,-68.2637 722.6238,-78.0611 729.6137,-78.4373\"/>\n</g>\n<!-- 18 -->\n<g id=\"node19\" class=\"node\">\n<title>18</title>\n<path fill=\"#85c3ef\" stroke=\"#000000\" d=\"M900.5,-68C900.5,-68 808.5,-68 808.5,-68 802.5,-68 796.5,-62 796.5,-56 796.5,-56 796.5,-12 796.5,-12 796.5,-6 802.5,0 808.5,0 808.5,0 900.5,0 900.5,0 906.5,0 912.5,-6 912.5,-12 912.5,-12 912.5,-56 912.5,-56 912.5,-62 906.5,-68 900.5,-68\"/>\n<text text-anchor=\"start\" x=\"816.5\" y=\"-52.8\" font-family=\"Helvetica,sans-Serif\" font-size=\"14.00\" fill=\"#000000\">gini = 0.401</text>\n<text text-anchor=\"start\" x=\"810.5\" y=\"-37.8\" font-family=\"Helvetica,sans-Serif\" font-size=\"14.00\" fill=\"#000000\">samples = 36</text>\n<text text-anchor=\"start\" x=\"804.5\" y=\"-22.8\" font-family=\"Helvetica,sans-Serif\" font-size=\"14.00\" fill=\"#000000\">value = [10, 26]</text>\n<text text-anchor=\"start\" x=\"820\" y=\"-7.8\" font-family=\"Helvetica,sans-Serif\" font-size=\"14.00\" fill=\"#000000\">class = No</text>\n</g>\n<!-- 17&#45;&gt;18 -->\n<g id=\"edge18\" class=\"edge\">\n<title>17&#45;&gt;18</title>\n<path fill=\"none\" stroke=\"#000000\" d=\"M858.2658,-103.9815C857.8158,-95.618 857.3411,-86.7965 856.8861,-78.3409\"/>\n<polygon fill=\"#000000\" stroke=\"#000000\" points=\"860.3762,-78.0611 856.3438,-68.2637 853.3863,-78.4373 860.3762,-78.0611\"/>\n</g>\n<!-- 19 -->\n<g id=\"node20\" class=\"node\">\n<title>19</title>\n<path fill=\"#66b3eb\" stroke=\"#000000\" d=\"M1034.5,-68C1034.5,-68 942.5,-68 942.5,-68 936.5,-68 930.5,-62 930.5,-56 930.5,-56 930.5,-12 930.5,-12 930.5,-6 936.5,0 942.5,0 942.5,0 1034.5,0 1034.5,0 1040.5,0 1046.5,-6 1046.5,-12 1046.5,-12 1046.5,-56 1046.5,-56 1046.5,-62 1040.5,-68 1034.5,-68\"/>\n<text text-anchor=\"start\" x=\"950.5\" y=\"-52.8\" font-family=\"Helvetica,sans-Serif\" font-size=\"14.00\" fill=\"#000000\">gini = 0.302</text>\n<text text-anchor=\"start\" x=\"944.5\" y=\"-37.8\" font-family=\"Helvetica,sans-Serif\" font-size=\"14.00\" fill=\"#000000\">samples = 97</text>\n<text text-anchor=\"start\" x=\"938.5\" y=\"-22.8\" font-family=\"Helvetica,sans-Serif\" font-size=\"14.00\" fill=\"#000000\">value = [18, 79]</text>\n<text text-anchor=\"start\" x=\"954\" y=\"-7.8\" font-family=\"Helvetica,sans-Serif\" font-size=\"14.00\" fill=\"#000000\">class = No</text>\n</g>\n<!-- 17&#45;&gt;19 -->\n<g id=\"edge19\" class=\"edge\">\n<title>17&#45;&gt;19</title>\n<path fill=\"none\" stroke=\"#000000\" d=\"M908.1625,-103.9815C919.0297,-94.5151 930.5705,-84.462 941.4135,-75.0168\"/>\n<polygon fill=\"#000000\" stroke=\"#000000\" points=\"943.9245,-77.4712 949.1659,-68.2637 939.3266,-72.1929 943.9245,-77.4712\"/>\n</g>\n<!-- 21 -->\n<g id=\"node22\" class=\"node\">\n<title>21</title>\n<path fill=\"#65b3eb\" stroke=\"#000000\" d=\"M1222,-187C1222,-187 1139,-187 1139,-187 1133,-187 1127,-181 1127,-175 1127,-175 1127,-116 1127,-116 1127,-110 1133,-104 1139,-104 1139,-104 1222,-104 1222,-104 1228,-104 1234,-110 1234,-116 1234,-116 1234,-175 1234,-175 1234,-181 1228,-187 1222,-187\"/>\n<text text-anchor=\"start\" x=\"1138\" y=\"-171.8\" font-family=\"Helvetica,sans-Serif\" font-size=\"14.00\" fill=\"#000000\">Gender ≤ 0.5</text>\n<text text-anchor=\"start\" x=\"1142.5\" y=\"-156.8\" font-family=\"Helvetica,sans-Serif\" font-size=\"14.00\" fill=\"#000000\">gini = 0.298</text>\n<text text-anchor=\"start\" x=\"1136.5\" y=\"-141.8\" font-family=\"Helvetica,sans-Serif\" font-size=\"14.00\" fill=\"#000000\">samples = 44</text>\n<text text-anchor=\"start\" x=\"1135\" y=\"-126.8\" font-family=\"Helvetica,sans-Serif\" font-size=\"14.00\" fill=\"#000000\">value = [8, 36]</text>\n<text text-anchor=\"start\" x=\"1146\" y=\"-111.8\" font-family=\"Helvetica,sans-Serif\" font-size=\"14.00\" fill=\"#000000\">class = No</text>\n</g>\n<!-- 20&#45;&gt;21 -->\n<g id=\"edge21\" class=\"edge\">\n<title>20&#45;&gt;21</title>\n<path fill=\"none\" stroke=\"#000000\" d=\"M1180.5,-222.8796C1180.5,-214.6838 1180.5,-205.9891 1180.5,-197.5013\"/>\n<polygon fill=\"#000000\" stroke=\"#000000\" points=\"1184.0001,-197.298 1180.5,-187.2981 1177.0001,-197.2981 1184.0001,-197.298\"/>\n</g>\n<!-- 24 -->\n<g id=\"node25\" class=\"node\">\n<title>24</title>\n<path fill=\"#54aae9\" stroke=\"#000000\" d=\"M1410,-187C1410,-187 1327,-187 1327,-187 1321,-187 1315,-181 1315,-175 1315,-175 1315,-116 1315,-116 1315,-110 1321,-104 1327,-104 1327,-104 1410,-104 1410,-104 1416,-104 1422,-110 1422,-116 1422,-116 1422,-175 1422,-175 1422,-181 1416,-187 1410,-187\"/>\n<text text-anchor=\"start\" x=\"1326\" y=\"-171.8\" font-family=\"Helvetica,sans-Serif\" font-size=\"14.00\" fill=\"#000000\">Gender ≤ 0.5</text>\n<text text-anchor=\"start\" x=\"1330.5\" y=\"-156.8\" font-family=\"Helvetica,sans-Serif\" font-size=\"14.00\" fill=\"#000000\">gini = 0.211</text>\n<text text-anchor=\"start\" x=\"1324.5\" y=\"-141.8\" font-family=\"Helvetica,sans-Serif\" font-size=\"14.00\" fill=\"#000000\">samples = 75</text>\n<text text-anchor=\"start\" x=\"1323\" y=\"-126.8\" font-family=\"Helvetica,sans-Serif\" font-size=\"14.00\" fill=\"#000000\">value = [9, 66]</text>\n<text text-anchor=\"start\" x=\"1334\" y=\"-111.8\" font-family=\"Helvetica,sans-Serif\" font-size=\"14.00\" fill=\"#000000\">class = No</text>\n</g>\n<!-- 20&#45;&gt;24 -->\n<g id=\"edge24\" class=\"edge\">\n<title>20&#45;&gt;24</title>\n<path fill=\"none\" stroke=\"#000000\" d=\"M1242.5793,-225.2052C1263.0742,-212.2323 1285.8665,-197.8052 1306.3656,-184.8298\"/>\n<polygon fill=\"#000000\" stroke=\"#000000\" points=\"1308.4195,-187.6719 1314.9971,-179.3662 1304.6756,-181.7572 1308.4195,-187.6719\"/>\n</g>\n<!-- 22 -->\n<g id=\"node23\" class=\"node\">\n<title>22</title>\n<path fill=\"#7bbeee\" stroke=\"#000000\" d=\"M1160,-68C1160,-68 1077,-68 1077,-68 1071,-68 1065,-62 1065,-56 1065,-56 1065,-12 1065,-12 1065,-6 1071,0 1077,0 1077,0 1160,0 1160,0 1166,0 1172,-6 1172,-12 1172,-12 1172,-56 1172,-56 1172,-62 1166,-68 1160,-68\"/>\n<text text-anchor=\"start\" x=\"1080.5\" y=\"-52.8\" font-family=\"Helvetica,sans-Serif\" font-size=\"14.00\" fill=\"#000000\">gini = 0.375</text>\n<text text-anchor=\"start\" x=\"1074.5\" y=\"-37.8\" font-family=\"Helvetica,sans-Serif\" font-size=\"14.00\" fill=\"#000000\">samples = 16</text>\n<text text-anchor=\"start\" x=\"1073\" y=\"-22.8\" font-family=\"Helvetica,sans-Serif\" font-size=\"14.00\" fill=\"#000000\">value = [4, 12]</text>\n<text text-anchor=\"start\" x=\"1084\" y=\"-7.8\" font-family=\"Helvetica,sans-Serif\" font-size=\"14.00\" fill=\"#000000\">class = No</text>\n</g>\n<!-- 21&#45;&gt;22 -->\n<g id=\"edge22\" class=\"edge\">\n<title>21&#45;&gt;22</title>\n<path fill=\"none\" stroke=\"#000000\" d=\"M1157.4135,-103.9815C1152.5585,-95.2504 1147.426,-86.0202 1142.5371,-77.2281\"/>\n<polygon fill=\"#000000\" stroke=\"#000000\" points=\"1145.4712,-75.3025 1137.5524,-68.2637 1139.3533,-78.7043 1145.4712,-75.3025\"/>\n</g>\n<!-- 23 -->\n<g id=\"node24\" class=\"node\">\n<title>23</title>\n<path fill=\"#5aade9\" stroke=\"#000000\" d=\"M1285,-68C1285,-68 1202,-68 1202,-68 1196,-68 1190,-62 1190,-56 1190,-56 1190,-12 1190,-12 1190,-6 1196,0 1202,0 1202,0 1285,0 1285,0 1291,0 1297,-6 1297,-12 1297,-12 1297,-56 1297,-56 1297,-62 1291,-68 1285,-68\"/>\n<text text-anchor=\"start\" x=\"1205.5\" y=\"-52.8\" font-family=\"Helvetica,sans-Serif\" font-size=\"14.00\" fill=\"#000000\">gini = 0.245</text>\n<text text-anchor=\"start\" x=\"1199.5\" y=\"-37.8\" font-family=\"Helvetica,sans-Serif\" font-size=\"14.00\" fill=\"#000000\">samples = 28</text>\n<text text-anchor=\"start\" x=\"1198\" y=\"-22.8\" font-family=\"Helvetica,sans-Serif\" font-size=\"14.00\" fill=\"#000000\">value = [4, 24]</text>\n<text text-anchor=\"start\" x=\"1209\" y=\"-7.8\" font-family=\"Helvetica,sans-Serif\" font-size=\"14.00\" fill=\"#000000\">class = No</text>\n</g>\n<!-- 21&#45;&gt;23 -->\n<g id=\"edge23\" class=\"edge\">\n<title>21&#45;&gt;23</title>\n<path fill=\"none\" stroke=\"#000000\" d=\"M1203.9589,-103.9815C1208.8922,-95.2504 1214.1074,-86.0202 1219.0752,-77.2281\"/>\n<polygon fill=\"#000000\" stroke=\"#000000\" points=\"1222.2681,-78.6918 1224.1403,-68.2637 1216.1737,-75.2483 1222.2681,-78.6918\"/>\n</g>\n<!-- 25 -->\n<g id=\"node26\" class=\"node\">\n<title>25</title>\n<path fill=\"#399de5\" stroke=\"#000000\" d=\"M1410,-68C1410,-68 1327,-68 1327,-68 1321,-68 1315,-62 1315,-56 1315,-56 1315,-12 1315,-12 1315,-6 1321,0 1327,0 1327,0 1410,0 1410,0 1416,0 1422,-6 1422,-12 1422,-12 1422,-56 1422,-56 1422,-62 1416,-68 1410,-68\"/>\n<text text-anchor=\"start\" x=\"1339\" y=\"-52.8\" font-family=\"Helvetica,sans-Serif\" font-size=\"14.00\" fill=\"#000000\">gini = 0.0</text>\n<text text-anchor=\"start\" x=\"1324.5\" y=\"-37.8\" font-family=\"Helvetica,sans-Serif\" font-size=\"14.00\" fill=\"#000000\">samples = 11</text>\n<text text-anchor=\"start\" x=\"1323\" y=\"-22.8\" font-family=\"Helvetica,sans-Serif\" font-size=\"14.00\" fill=\"#000000\">value = [0, 11]</text>\n<text text-anchor=\"start\" x=\"1334\" y=\"-7.8\" font-family=\"Helvetica,sans-Serif\" font-size=\"14.00\" fill=\"#000000\">class = No</text>\n</g>\n<!-- 24&#45;&gt;25 -->\n<g id=\"edge25\" class=\"edge\">\n<title>24&#45;&gt;25</title>\n<path fill=\"none\" stroke=\"#000000\" d=\"M1368.5,-103.9815C1368.5,-95.618 1368.5,-86.7965 1368.5,-78.3409\"/>\n<polygon fill=\"#000000\" stroke=\"#000000\" points=\"1372.0001,-78.2636 1368.5,-68.2637 1365.0001,-78.2637 1372.0001,-78.2636\"/>\n</g>\n<!-- 26 -->\n<g id=\"node27\" class=\"node\">\n<title>26</title>\n<path fill=\"#59ade9\" stroke=\"#000000\" d=\"M1535,-68C1535,-68 1452,-68 1452,-68 1446,-68 1440,-62 1440,-56 1440,-56 1440,-12 1440,-12 1440,-6 1446,0 1452,0 1452,0 1535,0 1535,0 1541,0 1547,-6 1547,-12 1547,-12 1547,-56 1547,-56 1547,-62 1541,-68 1535,-68\"/>\n<text text-anchor=\"start\" x=\"1455.5\" y=\"-52.8\" font-family=\"Helvetica,sans-Serif\" font-size=\"14.00\" fill=\"#000000\">gini = 0.242</text>\n<text text-anchor=\"start\" x=\"1449.5\" y=\"-37.8\" font-family=\"Helvetica,sans-Serif\" font-size=\"14.00\" fill=\"#000000\">samples = 64</text>\n<text text-anchor=\"start\" x=\"1448\" y=\"-22.8\" font-family=\"Helvetica,sans-Serif\" font-size=\"14.00\" fill=\"#000000\">value = [9, 55]</text>\n<text text-anchor=\"start\" x=\"1459\" y=\"-7.8\" font-family=\"Helvetica,sans-Serif\" font-size=\"14.00\" fill=\"#000000\">class = No</text>\n</g>\n<!-- 24&#45;&gt;26 -->\n<g id=\"edge26\" class=\"edge\">\n<title>24&#45;&gt;26</title>\n<path fill=\"none\" stroke=\"#000000\" d=\"M1415.0454,-103.9815C1425.6579,-94.5151 1436.9282,-84.462 1447.5171,-75.0168\"/>\n<polygon fill=\"#000000\" stroke=\"#000000\" points=\"1449.9551,-77.5322 1455.0878,-68.2637 1445.2954,-72.3084 1449.9551,-77.5322\"/>\n</g>\n</g>\n</svg>\n"
          },
          "metadata": {},
          "execution_count": 23
        }
      ]
    },
    {
      "cell_type": "code",
      "metadata": {
        "colab": {
          "base_uri": "https://localhost:8080/"
        },
        "id": "4QICzOuo4uoD",
        "outputId": "92c2621a-4e23-49e8-fc66-4f7869f26916"
      },
      "source": [
        "clf.score(x_test,y_test)"
      ],
      "execution_count": 26,
      "outputs": [
        {
          "output_type": "execute_result",
          "data": {
            "text/plain": [
              "0.8055555555555556"
            ]
          },
          "metadata": {},
          "execution_count": 26
        }
      ]
    }
  ]
}