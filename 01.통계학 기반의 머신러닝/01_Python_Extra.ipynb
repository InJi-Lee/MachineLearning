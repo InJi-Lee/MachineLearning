{
  "nbformat": 4,
  "nbformat_minor": 0,
  "metadata": {
    "colab": {
      "name": "01.Python_Extra.ipynb",
      "provenance": [],
      "collapsed_sections": []
    },
    "kernelspec": {
      "name": "python3",
      "display_name": "Python 3"
    },
    "language_info": {
      "name": "python"
    }
  },
  "cells": [
    {
      "cell_type": "markdown",
      "metadata": {
        "id": "Hknm_qR9-CtT"
      },
      "source": [
        "# Decorator\n",
        "##First-Class Citizen\n",
        "- 이름을 가짐\n",
        "- 다른 변수에 대입 가능\n",
        "- 인수로 전달 가능\n",
        "- 리턴값으로 사용할 수 있음\n",
        "- 컬렉션에 저장할 수 있음"
      ]
    },
    {
      "cell_type": "code",
      "metadata": {
        "colab": {
          "base_uri": "https://localhost:8080/"
        },
        "id": "WUL1DKXn92XI",
        "outputId": "2beb0db4-dfbb-40ae-be4f-ad68697ff7a1"
      },
      "source": [
        "def add(a,b):\n",
        "    print(a+b)\n",
        "plus = add\n",
        "plus(1,2)"
      ],
      "execution_count": 1,
      "outputs": [
        {
          "output_type": "stream",
          "name": "stdout",
          "text": [
            "3\n"
          ]
        }
      ]
    },
    {
      "cell_type": "code",
      "metadata": {
        "colab": {
          "base_uri": "https://localhost:8080/"
        },
        "id": "AAYNb5FSCYh1",
        "outputId": "fa739ca6-c9fd-45bb-f8c4-1622c04116b3"
      },
      "source": [
        "def para(func):\n",
        "    def wrapper():\n",
        "        return str(func())\n",
        "    return wrapper\n",
        "\n",
        "@para\n",
        "def outname():\n",
        "    return 'James Bond'\n",
        "\n",
        "@para\n",
        "def outage():\n",
        "    return '29'\n",
        "\n",
        "print(outname())\n",
        "print(outage())\n"
      ],
      "execution_count": 3,
      "outputs": [
        {
          "output_type": "stream",
          "name": "stdout",
          "text": [
            "James Bond\n",
            "29\n"
          ]
        }
      ]
    },
    {
      "cell_type": "code",
      "metadata": {
        "colab": {
          "base_uri": "https://localhost:8080/"
        },
        "id": "35PEsPTw-MKH",
        "outputId": "84cef324-e8ba-41cf-ce68-bd4128f8224a"
      },
      "source": [
        "def para(func):\n",
        "    def wrap(*args, **kwargs):\n",
        "        return str(func(*args, **kwargs))\n",
        "    return wrap\n",
        "\n",
        "@para\n",
        "def outname(name):\n",
        "    return 'Name: ' + name\n",
        "\n",
        "@para\n",
        "def outage(age):\n",
        "    return 'Age: ' + str(age)\n",
        "\n",
        "print(outname('James Bond'))\n",
        "print(outname.__name__)\n",
        "print(outage(29))\n",
        "print(outage.__name__)"
      ],
      "execution_count": 6,
      "outputs": [
        {
          "output_type": "stream",
          "name": "stdout",
          "text": [
            "Name: James Bond\n",
            "wrap\n",
            "Age: 29\n",
            "wrap\n"
          ]
        }
      ]
    },
    {
      "cell_type": "markdown",
      "metadata": {
        "id": "Uz8DC_zTIcjR"
      },
      "source": [
        "- outname함수의 __name__속성이 wrapper로 출력됨\n",
        "- @wraps 데코레이터 --> 데코레이터 간 중첩시 문제를 해결"
      ]
    },
    {
      "cell_type": "code",
      "metadata": {
        "colab": {
          "base_uri": "https://localhost:8080/"
        },
        "id": "n0U6HMrkGz1c",
        "outputId": "916e0882-7957-4728-b4aa-873988de62e9"
      },
      "source": [
        "from functools import wraps\n",
        "\n",
        "def para(func):\n",
        "    @wraps(func)\n",
        "    def wrap(*args, **kwargs):\n",
        "        return str(func(*args, **kwargs))\n",
        "    return wrap\n",
        "\n",
        "@para\n",
        "def outname(name):\n",
        "    return 'Name: ' + name\n",
        "\n",
        "@para\n",
        "def outage(age):\n",
        "    return 'Age: ' + str(age)\n",
        "\n",
        "print(outname('James Bond'))\n",
        "print(outname.__name__)\n",
        "print(outage(29))\n",
        "print(outage.__name__)"
      ],
      "execution_count": 7,
      "outputs": [
        {
          "output_type": "stream",
          "name": "stdout",
          "text": [
            "Name: James Bond\n",
            "outname\n",
            "Age: 29\n",
            "outage\n"
          ]
        }
      ]
    },
    {
      "cell_type": "code",
      "metadata": {
        "colab": {
          "base_uri": "https://localhost:8080/"
        },
        "id": "n61Ymf8lIPI7",
        "outputId": "df9cee29-d924-43d5-dd44-6aadc4be1ce9"
      },
      "source": [
        "from functools import wraps\n",
        "\n",
        "def para(func):\n",
        "    @wraps(func)\n",
        "    def wrap(*args, **kwargs):\n",
        "        return str(func(*args, **kwargs))\n",
        "    return wrap\n",
        "\n",
        "@para\n",
        "def outname(name):\n",
        "    return 'Name: ' + name\n",
        "\n",
        "@para\n",
        "def outage(age):\n",
        "    return 'Age: ' + str(age)\n",
        "\n",
        "\n",
        "print(outname.__name__)\n",
        "print(outage.__name__)"
      ],
      "execution_count": 8,
      "outputs": [
        {
          "output_type": "stream",
          "name": "stdout",
          "text": [
            "outname\n",
            "outage\n"
          ]
        }
      ]
    },
    {
      "cell_type": "code",
      "metadata": {
        "id": "hx1hTjwmUBwd"
      },
      "source": [
        ""
      ],
      "execution_count": null,
      "outputs": []
    }
  ]
}